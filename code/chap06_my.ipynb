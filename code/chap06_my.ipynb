{
 "cells": [
  {
   "cell_type": "markdown",
   "metadata": {
    "id": "oHVPsIZPOYRd"
   },
   "source": [
    "# Упражнение 6.1\n"
   ]
  },
  {
   "cell_type": "markdown",
   "metadata": {
    "id": "3f1b-nbKw5Kr"
   },
   "source": [
    "В этой главе утверждается, что analyze1 требует времени пропорционально\n",
    "n^3, а analyze2 - пропорционально n^2. Убедимся в этом, запуская их с несколькими разными массивами и засекая время работы.\n",
    "В блокнотах Jupyter можно использовать \"волшебную команду\" %timeit.\n",
    "Если печатать зависимость времени работы от размера на логарифмической шкале, то получится прямая линия с уклоном 3 для analyze1 и с уклоном 2 для analyze2.\n",
    "Также поупражняемся с dct_iv и scipy.fftpack.dct."
   ]
  },
  {
   "cell_type": "markdown",
   "metadata": {
    "id": "vDIaJY7Ewmdf"
   },
   "source": [
    "Для начала импортируем необходимые библиотеки:"
   ]
  },
  {
   "cell_type": "code",
   "execution_count": 1,
   "metadata": {
    "colab": {
     "base_uri": "https://localhost:8080/"
    },
    "id": "FQv_82W6wq0w",
    "outputId": "3047185a-95b2-4343-ae5f-c33549ad2b93"
   },
   "outputs": [],
   "source": [
    "import os\n",
    "\n",
    "if not os.path.exists('thinkdsp.py'):\n",
    "    !wget https://github.com/AllenDowney/ThinkDSP/raw/master/code/thinkdsp.py\n",
    "import numpy as np\n",
    "import matplotlib.pyplot as plt\n",
    "\n",
    "from thinkdsp import decorate"
   ]
  },
  {
   "cell_type": "markdown",
   "metadata": {
    "id": "WhANJqHuO2BR"
   },
   "source": [
    "Далее создадим шумовой сигнал"
   ]
  },
  {
   "cell_type": "code",
   "execution_count": 2,
   "metadata": {
    "colab": {
     "base_uri": "https://localhost:8080/"
    },
    "id": "6qp1zMMPOM9b",
    "outputId": "3cd600be-14ac-4f7a-db62-d442d5d5a998"
   },
   "outputs": [
    {
     "data": {
      "text/plain": [
       "(16384,)"
      ]
     },
     "execution_count": 2,
     "metadata": {},
     "output_type": "execute_result"
    }
   ],
   "source": [
    "from thinkdsp import UncorrelatedGaussianNoise\n",
    "\n",
    "signal = UncorrelatedGaussianNoise()\n",
    "noise = signal.make_wave(duration=1.0, framerate=16384)\n",
    "noise.ys.shape"
   ]
  },
  {
   "cell_type": "markdown",
   "metadata": {
    "id": "kkRbX1JfQHG4"
   },
   "source": [
    "Затем создадим функцию отображения результатов анализа, которая аппроксимирует результат прямой линией:"
   ]
  },
  {
   "cell_type": "code",
   "execution_count": 3,
   "metadata": {
    "id": "_LmBCUKiP3uT"
   },
   "outputs": [],
   "source": [
    "from scipy.stats import linregress\n",
    "\n",
    "loglog = dict(xscale='log', yscale='log')\n",
    "\n",
    "def plot_bests(ns, bests):    \n",
    "    plt.plot(ns, bests)\n",
    "    decorate(**loglog)\n",
    "    \n",
    "    x = np.log(ns)\n",
    "    y = np.log(bests)\n",
    "    t = linregress(x,y)\n",
    "    slope = t[0]\n",
    "\n",
    "    return slope\n",
    "PI2 = np.pi * 2\n",
    "\n",
    "def analyze1(ys, fs, ts):\n",
    "    args = np.outer(ts, fs)\n",
    "    M = np.cos(PI2 * args)\n",
    "    amps = np.linalg.solve(M, ys)\n",
    "    return amps\n",
    "\n",
    "def run_speed_test(ns, func):\n",
    "    results = []\n",
    "    for N in ns:\n",
    "        print(N)\n",
    "        ts = (0.5 + np.arange(N)) / N\n",
    "        freqs = (0.5 + np.arange(N)) / 2\n",
    "        ys = noise.ys[:N]\n",
    "        result = %timeit -r1 -o func(ys, freqs, ts)\n",
    "        results.append(result)\n",
    "        \n",
    "    bests = [result.best for result in results]\n",
    "    return bests"
   ]
  },
  {
   "cell_type": "markdown",
   "metadata": {
    "id": "tQzv96JNy2em"
   },
   "source": [
    "Затем начнем тестирование"
   ]
  },
  {
   "cell_type": "markdown",
   "metadata": {
    "id": "nkdsBxHKQoBb"
   },
   "source": [
    "Результаты для analyze1:\n",
    "\n"
   ]
  },
  {
   "cell_type": "code",
   "execution_count": 4,
   "metadata": {
    "colab": {
     "base_uri": "https://localhost:8080/",
     "height": 747
    },
    "id": "fkjDE2uuQsUc",
    "outputId": "b449b73c-4cad-4801-87ef-fbc652f63a88"
   },
   "outputs": [
    {
     "name": "stdout",
     "output_type": "stream",
     "text": [
      "64\n",
      "85.7 μs ± 0 ns per loop (mean ± std. dev. of 1 run, 10,000 loops each)\n",
      "128\n",
      "261 μs ± 0 ns per loop (mean ± std. dev. of 1 run, 1,000 loops each)\n",
      "256\n",
      "1.21 ms ± 0 ns per loop (mean ± std. dev. of 1 run, 1,000 loops each)\n",
      "512\n",
      "5.44 ms ± 0 ns per loop (mean ± std. dev. of 1 run, 100 loops each)\n",
      "1024\n",
      "36.3 ms ± 0 ns per loop (mean ± std. dev. of 1 run, 10 loops each)\n",
      "2048\n",
      "253 ms ± 0 ns per loop (mean ± std. dev. of 1 run, 1 loop each)\n",
      "4096\n",
      "627 ms ± 0 ns per loop (mean ± std. dev. of 1 run, 1 loop each)\n"
     ]
    },
    {
     "data": {
      "text/plain": [
       "2.259530581855205"
      ]
     },
     "execution_count": 4,
     "metadata": {},
     "output_type": "execute_result"
    },
    {
     "data": {
      "image/png": "[encoded data removed]",
      "text/plain": [
       "<Figure size 640x480 with 1 Axes>"
      ]
     },
     "metadata": {},
     "output_type": "display_data"
    }
   ],
   "source": [
    "ns = 2 ** np.arange(6, 13)\n",
    "bests = run_speed_test(ns, analyze1)\n",
    "plot_bests(ns, bests)"
   ]
  },
  {
   "cell_type": "markdown",
   "metadata": {
    "id": "85OEE5vLRBJ8"
   },
   "source": [
    "Однако, наклон получился близок не к 3, а к 2. Вероятно, это произошло из-за того, что в данном случае производительность np.linalg.solve близка к квадратичной"
   ]
  },
  {
   "cell_type": "markdown",
   "metadata": {
    "id": "mVkwAxcNRN6j"
   },
   "source": [
    "Напишем функцию для analyze2:"
   ]
  },
  {
   "cell_type": "code",
   "execution_count": 5,
   "metadata": {
    "id": "po6P4ztGRC0t"
   },
   "outputs": [],
   "source": [
    "def analyze2(ys, fs, ts):\n",
    "    args = np.outer(ts, fs)\n",
    "    M = np.cos(PI2 * args)\n",
    "    amps = np.dot(M, ys) / 2\n",
    "    return amps"
   ]
  },
  {
   "cell_type": "markdown",
   "metadata": {
    "id": "dTZfXVurRTH8"
   },
   "source": [
    "Результаты для analyze2:"
   ]
  },
  {
   "cell_type": "code",
   "execution_count": 6,
   "metadata": {
    "colab": {
     "base_uri": "https://localhost:8080/",
     "height": 747
    },
    "id": "48aIKu2_RZNH",
    "outputId": "a44d4c65-4e87-464c-805b-bc78a64f4ed1"
   },
   "outputs": [
    {
     "name": "stdout",
     "output_type": "stream",
     "text": [
      "64\n",
      "48.8 μs ± 0 ns per loop (mean ± std. dev. of 1 run, 10,000 loops each)\n",
      "128\n",
      "164 μs ± 0 ns per loop (mean ± std. dev. of 1 run, 10,000 loops each)\n",
      "256\n",
      "579 μs ± 0 ns per loop (mean ± std. dev. of 1 run, 1,000 loops each)\n",
      "512\n",
      "3.33 ms ± 0 ns per loop (mean ± std. dev. of 1 run, 100 loops each)\n",
      "1024\n",
      "13.9 ms ± 0 ns per loop (mean ± std. dev. of 1 run, 100 loops each)\n",
      "2048\n",
      "56 ms ± 0 ns per loop (mean ± std. dev. of 1 run, 10 loops each)\n",
      "4096\n",
      "224 ms ± 0 ns per loop (mean ± std. dev. of 1 run, 1 loop each)\n"
     ]
    },
    {
     "data": {
      "text/plain": [
       "2.068101957204744"
      ]
     },
     "execution_count": 6,
     "metadata": {},
     "output_type": "execute_result"
    },
    {
     "data": {
      "image/png": "[encoded data removed]",
      "text/plain": [
       "<Figure size 640x480 with 1 Axes>"
      ]
     },
     "metadata": {},
     "output_type": "display_data"
    }
   ],
   "source": [
    "bests2 = run_speed_test(ns, analyze2)\n",
    "plot_bests(ns, bests2)"
   ]
  },
  {
   "cell_type": "markdown",
   "metadata": {
    "id": "XXg4aEZOWIiw"
   },
   "source": [
    "В итоге получили почти прямую линию с наклоном, близким к 2, как и ожидалось"
   ]
  },
  {
   "cell_type": "markdown",
   "metadata": {
    "id": "2Ta1vjsKWVc6"
   },
   "source": [
    "Результаты тестирования scipy.fftpack.dct"
   ]
  },
  {
   "cell_type": "code",
   "execution_count": 7,
   "metadata": {
    "colab": {
     "base_uri": "https://localhost:8080/",
     "height": 747
    },
    "id": "IQ9T9IpJWZ1F",
    "outputId": "20053f73-6f9a-4321-d9eb-ed1e34b6ff1b"
   },
   "outputs": [
    {
     "name": "stdout",
     "output_type": "stream",
     "text": [
      "64\n",
      "6.56 μs ± 0 ns per loop (mean ± std. dev. of 1 run, 100,000 loops each)\n",
      "128\n",
      "7.02 μs ± 0 ns per loop (mean ± std. dev. of 1 run, 100,000 loops each)\n",
      "256\n",
      "7.67 μs ± 0 ns per loop (mean ± std. dev. of 1 run, 100,000 loops each)\n",
      "512\n",
      "9.17 μs ± 0 ns per loop (mean ± std. dev. of 1 run, 100,000 loops each)\n",
      "1024\n",
      "11.7 μs ± 0 ns per loop (mean ± std. dev. of 1 run, 100,000 loops each)\n",
      "2048\n",
      "17.8 μs ± 0 ns per loop (mean ± std. dev. of 1 run, 100,000 loops each)\n",
      "4096\n",
      "30.7 μs ± 0 ns per loop (mean ± std. dev. of 1 run, 10,000 loops each)\n"
     ]
    },
    {
     "data": {
      "text/plain": [
       "0.3565688637731473"
      ]
     },
     "execution_count": 7,
     "metadata": {},
     "output_type": "execute_result"
    },
    {
     "data": {
      "image/png": "[encoded data removed]",
      "text/plain": [
       "<Figure size 640x480 with 1 Axes>"
      ]
     },
     "metadata": {},
     "output_type": "display_data"
    }
   ],
   "source": [
    "import scipy.fftpack\n",
    "\n",
    "def scipy_dct(ys, freqs, ts):\n",
    "    return scipy.fftpack.dct(ys, type=3)\n",
    "    \n",
    "bests3 = run_speed_test(ns, scipy_dct)\n",
    "plot_bests(ns, bests3)"
   ]
  },
  {
   "cell_type": "markdown",
   "metadata": {
    "id": "2ZdFB_5zW06n"
   },
   "source": [
    "По графику можно увидеть, что эта функция работает быстрее, время её работы пропорционально N * log(N)."
   ]
  },
  {
   "cell_type": "markdown",
   "metadata": {
    "id": "G8lq1waCXh8U"
   },
   "source": [
    "Теперь проанализируем dct_iv"
   ]
  },
  {
   "cell_type": "code",
   "execution_count": 8,
   "metadata": {
    "id": "ISCo6T7KXBOt"
   },
   "outputs": [],
   "source": [
    "def dct_iv(ys, freqs, ts):\n",
    "  N = len(ys)\n",
    "  ts = (0.5 + np.arange(N))/N\n",
    "  fs = (0.5 + np.arange(N))/2\n",
    "  args = np.outer(ts,fs)\n",
    "  M = np.cos(PI2*args)\n",
    "  amps = np.dot(M, ys) / 2\n",
    "  return amps"
   ]
  },
  {
   "cell_type": "code",
   "execution_count": 9,
   "metadata": {
    "colab": {
     "base_uri": "https://localhost:8080/",
     "height": 747
    },
    "id": "ZAdkfCUbZS2L",
    "outputId": "c9db7788-8615-416e-e208-def86f0b47d2"
   },
   "outputs": [
    {
     "name": "stdout",
     "output_type": "stream",
     "text": [
      "64\n",
      "55.6 μs ± 0 ns per loop (mean ± std. dev. of 1 run, 10,000 loops each)\n",
      "128\n",
      "165 μs ± 0 ns per loop (mean ± std. dev. of 1 run, 10,000 loops each)\n",
      "256\n",
      "562 μs ± 0 ns per loop (mean ± std. dev. of 1 run, 1,000 loops each)\n",
      "512\n",
      "3.48 ms ± 0 ns per loop (mean ± std. dev. of 1 run, 100 loops each)\n",
      "1024\n",
      "13.9 ms ± 0 ns per loop (mean ± std. dev. of 1 run, 100 loops each)\n",
      "2048\n",
      "55.7 ms ± 0 ns per loop (mean ± std. dev. of 1 run, 10 loops each)\n",
      "4096\n",
      "223 ms ± 0 ns per loop (mean ± std. dev. of 1 run, 1 loop each)\n"
     ]
    },
    {
     "data": {
      "text/plain": [
       "2.0478803468200493"
      ]
     },
     "execution_count": 9,
     "metadata": {},
     "output_type": "execute_result"
    },
    {
     "data": {
      "image/png": "[encoded data removed]",
      "text/plain": [
       "<Figure size 640x480 with 1 Axes>"
      ]
     },
     "metadata": {},
     "output_type": "display_data"
    }
   ],
   "source": [
    "best4 = run_speed_test(ns, dct_iv)\n",
    "plot_bests(ns, best4)"
   ]
  },
  {
   "cell_type": "markdown",
   "metadata": {
    "id": "8zvwN6d6a3XA"
   },
   "source": [
    "В итоге получили искривлённую линию с наклоном около 1.9."
   ]
  },
  {
   "cell_type": "markdown",
   "metadata": {
    "id": "JZ-jQYctbBG1"
   },
   "source": [
    "# Упражнение 6.2\n"
   ]
  },
  {
   "cell_type": "markdown",
   "metadata": {
    "id": "HCtH3wBmxfGf"
   },
   "source": [
    "Oдно из основных применений ДКП - это сжатие звука и изображений.\n",
    "В простейшей форме ДКП при сжатии работает следующим\n",
    "образом:\n",
    "1. Разбивает длинный сигнал на сегменты.\n",
    "2. Вьчисляет ДКП каждого сегмента.\n",
    "3. Определяет частотные компоненты с такой амплитудой, что\n",
    "их не слышно, и удаляет их, сохраняя только оставшиеся частоты\n",
    "и амплитуды.\n",
    "4. При воспроизведении сигнала загружает частоты и амплитуды\n",
    "каждого сегмента и применяет обратное ДКП.\n",
    "Реализуйте версию этого алгоритма и примените его для записи\n",
    "музыки или речи. Сколько компонент можно удалить до того, как\n",
    "разница станет заметной?"
   ]
  },
  {
   "cell_type": "markdown",
   "metadata": {
    "id": "x4DRPw0broN6"
   },
   "source": [
    "Загрузим саму запись и послушаем:"
   ]
  },
  {
   "cell_type": "code",
   "execution_count": 10,
   "metadata": {
    "colab": {
     "base_uri": "https://localhost:8080/",
     "height": 75
    },
    "id": "TOxlOUVsrqfq",
    "outputId": "f70d13c2-45da-4bc8-b7d1-bd98751a7158"
   },
   "outputs": [
    {
     "ename": "FileNotFoundError",
     "evalue": "[Errno 2] No such file or directory: '/content/648433__timouse__piano-loop-20.wav'",
     "output_type": "error",
     "traceback": [
      "\u001b[1;31m---------------------------------------------------------------------------\u001b[0m",
      "\u001b[1;31mFileNotFoundError\u001b[0m                         Traceback (most recent call last)",
      "Cell \u001b[1;32mIn[10], line 3\u001b[0m\n\u001b[0;32m      1\u001b[0m \u001b[38;5;28;01mfrom\u001b[39;00m \u001b[38;5;21;01mthinkdsp\u001b[39;00m \u001b[38;5;28;01mimport\u001b[39;00m read_wave\n\u001b[1;32m----> 3\u001b[0m wave \u001b[38;5;241m=\u001b[39m read_wave(\u001b[38;5;124m'\u001b[39m\u001b[38;5;124m/content/648433__timouse__piano-loop-20.wav\u001b[39m\u001b[38;5;124m'\u001b[39m)\n\u001b[0;32m      4\u001b[0m wave\u001b[38;5;241m.\u001b[39mmake_audio()\n",
      "File \u001b[1;32m~\\ThinkDSP\\code\\thinkdsp.py:96\u001b[0m, in \u001b[0;36mread_wave\u001b[1;34m(filename)\u001b[0m\n\u001b[0;32m     89\u001b[0m \u001b[38;5;28;01mdef\u001b[39;00m \u001b[38;5;21mread_wave\u001b[39m(filename\u001b[38;5;241m=\u001b[39m\u001b[38;5;124m\"\u001b[39m\u001b[38;5;124msound.wav\u001b[39m\u001b[38;5;124m\"\u001b[39m):\n\u001b[0;32m     90\u001b[0m \u001b[38;5;250m    \u001b[39m\u001b[38;5;124;03m\"\"\"Reads a wave file.\u001b[39;00m\n\u001b[0;32m     91\u001b[0m \n\u001b[0;32m     92\u001b[0m \u001b[38;5;124;03m    filename: string\u001b[39;00m\n\u001b[0;32m     93\u001b[0m \n\u001b[0;32m     94\u001b[0m \u001b[38;5;124;03m    returns: Wave\u001b[39;00m\n\u001b[0;32m     95\u001b[0m \u001b[38;5;124;03m    \"\"\"\u001b[39;00m\n\u001b[1;32m---> 96\u001b[0m     fp \u001b[38;5;241m=\u001b[39m open_wave(filename, \u001b[38;5;124m\"\u001b[39m\u001b[38;5;124mr\u001b[39m\u001b[38;5;124m\"\u001b[39m)\n\u001b[0;32m     98\u001b[0m     nchannels \u001b[38;5;241m=\u001b[39m fp\u001b[38;5;241m.\u001b[39mgetnchannels()\n\u001b[0;32m     99\u001b[0m     nframes \u001b[38;5;241m=\u001b[39m fp\u001b[38;5;241m.\u001b[39mgetnframes()\n",
      "File \u001b[1;32m~\\anaconda3\\Lib\\wave.py:649\u001b[0m, in \u001b[0;36mopen\u001b[1;34m(f, mode)\u001b[0m\n\u001b[0;32m    647\u001b[0m         mode \u001b[38;5;241m=\u001b[39m \u001b[38;5;124m'\u001b[39m\u001b[38;5;124mrb\u001b[39m\u001b[38;5;124m'\u001b[39m\n\u001b[0;32m    648\u001b[0m \u001b[38;5;28;01mif\u001b[39;00m mode \u001b[38;5;129;01min\u001b[39;00m (\u001b[38;5;124m'\u001b[39m\u001b[38;5;124mr\u001b[39m\u001b[38;5;124m'\u001b[39m, \u001b[38;5;124m'\u001b[39m\u001b[38;5;124mrb\u001b[39m\u001b[38;5;124m'\u001b[39m):\n\u001b[1;32m--> 649\u001b[0m     \u001b[38;5;28;01mreturn\u001b[39;00m Wave_read(f)\n\u001b[0;32m    650\u001b[0m \u001b[38;5;28;01melif\u001b[39;00m mode \u001b[38;5;129;01min\u001b[39;00m (\u001b[38;5;124m'\u001b[39m\u001b[38;5;124mw\u001b[39m\u001b[38;5;124m'\u001b[39m, \u001b[38;5;124m'\u001b[39m\u001b[38;5;124mwb\u001b[39m\u001b[38;5;124m'\u001b[39m):\n\u001b[0;32m    651\u001b[0m     \u001b[38;5;28;01mreturn\u001b[39;00m Wave_write(f)\n",
      "File \u001b[1;32m~\\anaconda3\\Lib\\wave.py:282\u001b[0m, in \u001b[0;36mWave_read.__init__\u001b[1;34m(self, f)\u001b[0m\n\u001b[0;32m    280\u001b[0m \u001b[38;5;28mself\u001b[39m\u001b[38;5;241m.\u001b[39m_i_opened_the_file \u001b[38;5;241m=\u001b[39m \u001b[38;5;28;01mNone\u001b[39;00m\n\u001b[0;32m    281\u001b[0m \u001b[38;5;28;01mif\u001b[39;00m \u001b[38;5;28misinstance\u001b[39m(f, \u001b[38;5;28mstr\u001b[39m):\n\u001b[1;32m--> 282\u001b[0m     f \u001b[38;5;241m=\u001b[39m builtins\u001b[38;5;241m.\u001b[39mopen(f, \u001b[38;5;124m'\u001b[39m\u001b[38;5;124mrb\u001b[39m\u001b[38;5;124m'\u001b[39m)\n\u001b[0;32m    283\u001b[0m     \u001b[38;5;28mself\u001b[39m\u001b[38;5;241m.\u001b[39m_i_opened_the_file \u001b[38;5;241m=\u001b[39m f\n\u001b[0;32m    284\u001b[0m \u001b[38;5;66;03m# else, assume it is an open file object already\u001b[39;00m\n",
      "\u001b[1;31mFileNotFoundError\u001b[0m: [Errno 2] No such file or directory: '/content/648433__timouse__piano-loop-20.wav'"
     ]
    }
   ],
   "source": [
    "from thinkdsp import read_wave\n",
    "\n",
    "wave = read_wave('/content/648433__timouse__piano-loop-20.wav')\n",
    "wave.make_audio()"
   ]
  },
  {
   "cell_type": "markdown",
   "metadata": {
    "id": "2iOSOYtQrcs3"
   },
   "source": [
    "Извлечем из неё сегмент"
   ]
  },
  {
   "cell_type": "code",
   "execution_count": null,
   "metadata": {
    "colab": {
     "base_uri": "https://localhost:8080/",
     "height": 75
    },
    "id": "ORbeg-Qc19vA",
    "outputId": "e804677f-5748-4d8f-ec65-55fcec8106c5"
   },
   "outputs": [],
   "source": [
    "segment = wave.segment(start=1.2, duration=0.5)\n",
    "segment.normalize()\n",
    "segment.make_audio()"
   ]
  },
  {
   "cell_type": "markdown",
   "metadata": {
    "id": "CtBmkDcO2A1Y"
   },
   "source": [
    "Получим ДКП сигнала"
   ]
  },
  {
   "cell_type": "code",
   "execution_count": null,
   "metadata": {
    "colab": {
     "base_uri": "https://localhost:8080/",
     "height": 487
    },
    "id": "sKV8wokX1_4q",
    "outputId": "547017d5-19bb-4a37-deaf-4aff30aeaedf"
   },
   "outputs": [],
   "source": [
    "seg_dct = segment.make_dct()\n",
    "seg_dct.plot(high=4000)\n",
    "decorate(xlabel='Frequency (Hz)', ylabel='DCT')"
   ]
  },
  {
   "cell_type": "markdown",
   "metadata": {
    "id": "OI5ypamk7HWF"
   },
   "source": [
    "Создадим функцию, которая убирает из ДКП частоты со значениями ниже заданного treshold"
   ]
  },
  {
   "cell_type": "code",
   "execution_count": null,
   "metadata": {
    "id": "EByOA6UE7QCJ"
   },
   "outputs": [],
   "source": [
    "def compress(dct, thresh=1):\n",
    "    count = 0\n",
    "    for i, amp in enumerate(dct.amps):\n",
    "        if np.abs(amp) < thresh:\n",
    "            dct.hs[i] = 0\n",
    "            count += 1\n",
    "            \n",
    "    n = len(dct.amps)\n",
    "    print(count, n, 100 * count / n, sep='\\t')"
   ]
  },
  {
   "cell_type": "markdown",
   "metadata": {
    "id": "_HelzDZ_2FjX"
   },
   "source": [
    "Применим эту функцию к заданному сигналу"
   ]
  },
  {
   "cell_type": "code",
   "execution_count": null,
   "metadata": {
    "colab": {
     "base_uri": "https://localhost:8080/",
     "height": 447
    },
    "id": "BPIhXc837d2d",
    "outputId": "8e136927-603f-4260-87fc-da509ed410f9"
   },
   "outputs": [],
   "source": [
    "seg_dct = segment.make_dct()\n",
    "compress(seg_dct, thresh=1)\n",
    "seg_dct.plot(high=4000)"
   ]
  },
  {
   "cell_type": "code",
   "execution_count": null,
   "metadata": {
    "colab": {
     "base_uri": "https://localhost:8080/",
     "height": 75
    },
    "id": "MBTuB9p08UTs",
    "outputId": "2a378e64-1298-4a60-ae0f-6872d88d6a8b"
   },
   "outputs": [],
   "source": [
    "seg2 = seg_dct.make_wave()\n",
    "seg2.make_audio()"
   ]
  },
  {
   "cell_type": "markdown",
   "metadata": {
    "id": "xodPkGsY8m4q"
   },
   "source": [
    "Звук остался практически неизменным при сжатии в 85%"
   ]
  },
  {
   "cell_type": "markdown",
   "metadata": {
    "id": "j4RI1K1I85RF"
   },
   "source": [
    "Создадим функцию, которая позволит получить спектрограмму ДКП "
   ]
  },
  {
   "cell_type": "code",
   "execution_count": null,
   "metadata": {
    "id": "2I_BWvax-F-f"
   },
   "outputs": [],
   "source": [
    "from thinkdsp import Spectrogram\n",
    "\n",
    "def make_dct_spectrogram(wave, seg_length):\n",
    "    window = np.hamming(seg_length)\n",
    "    i, j = 0, seg_length\n",
    "    step = seg_length // 2\n",
    "\n",
    "    spec_map = {}\n",
    "\n",
    "    while j < len(wave.ys):\n",
    "        segment = wave.slice(i, j)\n",
    "        segment.window(window)\n",
    "\n",
    "        t = (segment.start + segment.end) / 2\n",
    "        spec_map[t] = segment.make_dct()\n",
    "\n",
    "        i += step\n",
    "        j += step\n",
    "\n",
    "    return Spectrogram(spec_map, seg_length)"
   ]
  },
  {
   "cell_type": "markdown",
   "metadata": {
    "id": "P4Iql08e-INk"
   },
   "source": [
    "Теперь можно сжать все сегменты ДСП"
   ]
  },
  {
   "cell_type": "code",
   "execution_count": null,
   "metadata": {
    "colab": {
     "base_uri": "https://localhost:8080/"
    },
    "id": "V_v4mI5T-Mjq",
    "outputId": "73c8b138-a676-4b2b-8b25-524616995c77"
   },
   "outputs": [],
   "source": [
    "spectro = make_dct_spectrogram(wave, seg_length=1024)\n",
    "for t, dct in sorted(spectro.spec_map.items()):\n",
    "    compress(dct, thresh=0.002)"
   ]
  },
  {
   "cell_type": "markdown",
   "metadata": {
    "id": "zti5-2Zd-b3G"
   },
   "source": [
    "Большинство сегментов удалось сжать на 40-60%"
   ]
  },
  {
   "cell_type": "code",
   "execution_count": null,
   "metadata": {
    "colab": {
     "base_uri": "https://localhost:8080/",
     "height": 75
    },
    "id": "2JVSEhGU-_pi",
    "outputId": "46989f79-b66e-4c42-c94e-a2c8173d73f8"
   },
   "outputs": [],
   "source": [
    "wave2 = spectro.make_wave()\n",
    "wave2.make_audio()"
   ]
  },
  {
   "cell_type": "markdown",
   "metadata": {
    "id": "c6C4xc21-_Uz"
   },
   "source": [
    "Если увеличить сжатие, то становятся заметны шумы"
   ]
  },
  {
   "cell_type": "code",
   "execution_count": null,
   "metadata": {
    "colab": {
     "base_uri": "https://localhost:8080/"
    },
    "id": "MYbLanfM_y_0",
    "outputId": "b42e44d7-f903-4727-fc75-7b090160838f"
   },
   "outputs": [],
   "source": [
    "spectro = make_dct_spectrogram(wave, seg_length=1024)\n",
    "for t, dct in sorted(spectro.spec_map.items()):\n",
    "    compress(dct, thresh=0.008)"
   ]
  },
  {
   "cell_type": "code",
   "execution_count": null,
   "metadata": {
    "colab": {
     "base_uri": "https://localhost:8080/",
     "height": 75
    },
    "id": "4U5TZOnf_2VS",
    "outputId": "56a91693-72e8-4829-f272-b1f67a249966"
   },
   "outputs": [],
   "source": [
    "wave2 = spectro.make_wave()\n",
    "wave2.make_audio()"
   ]
  },
  {
   "cell_type": "markdown",
   "metadata": {
    "id": "I5-5n40d_-EZ"
   },
   "source": [
    "# Упражнение 6.3\n",
    "В репозитории этой книги есть блокнот jupyter под названием\n",
    "phase.ipynb, в котором исследуется влияние фазы на восприятие\n",
    "звука. Прочтите этот блокнот и \"погоняйте\" примеры. Выберите\n",
    "иной сегмент звука и повторите эксперименты. Можно ли найти некие\n",
    "общие соотношения в фазовой структуре звука и его восприятии?"
   ]
  },
  {
   "cell_type": "markdown",
   "metadata": {
    "id": "gZTt4Ap4x76T"
   },
   "source": [
    "Импортируем необходимые библиотеки, загрузим и послушаем саму запись:"
   ]
  },
  {
   "cell_type": "code",
   "execution_count": 11,
   "metadata": {
    "colab": {
     "base_uri": "https://localhost:8080/",
     "height": 75
    },
    "id": "VoW8W5JHJYp-",
    "outputId": "50194ff8-1c1a-4f67-df8c-11c370efe8bb"
   },
   "outputs": [
    {
     "ename": "FileNotFoundError",
     "evalue": "[Errno 2] No such file or directory: '/content/77685__juskiddink__anna-britta-sax.wav'",
     "output_type": "error",
     "traceback": [
      "\u001b[1;31m---------------------------------------------------------------------------\u001b[0m",
      "\u001b[1;31mFileNotFoundError\u001b[0m                         Traceback (most recent call last)",
      "Cell \u001b[1;32mIn[11], line 3\u001b[0m\n\u001b[0;32m      1\u001b[0m \u001b[38;5;28;01mfrom\u001b[39;00m \u001b[38;5;21;01mthinkdsp\u001b[39;00m \u001b[38;5;28;01mimport\u001b[39;00m read_wave\n\u001b[1;32m----> 3\u001b[0m wave \u001b[38;5;241m=\u001b[39m read_wave(\u001b[38;5;124m'\u001b[39m\u001b[38;5;124m/content/77685__juskiddink__anna-britta-sax.wav\u001b[39m\u001b[38;5;124m'\u001b[39m)\n\u001b[0;32m      4\u001b[0m wave\u001b[38;5;241m.\u001b[39mmake_audio()\n",
      "File \u001b[1;32m~\\ThinkDSP\\code\\thinkdsp.py:96\u001b[0m, in \u001b[0;36mread_wave\u001b[1;34m(filename)\u001b[0m\n\u001b[0;32m     89\u001b[0m \u001b[38;5;28;01mdef\u001b[39;00m \u001b[38;5;21mread_wave\u001b[39m(filename\u001b[38;5;241m=\u001b[39m\u001b[38;5;124m\"\u001b[39m\u001b[38;5;124msound.wav\u001b[39m\u001b[38;5;124m\"\u001b[39m):\n\u001b[0;32m     90\u001b[0m \u001b[38;5;250m    \u001b[39m\u001b[38;5;124;03m\"\"\"Reads a wave file.\u001b[39;00m\n\u001b[0;32m     91\u001b[0m \n\u001b[0;32m     92\u001b[0m \u001b[38;5;124;03m    filename: string\u001b[39;00m\n\u001b[0;32m     93\u001b[0m \n\u001b[0;32m     94\u001b[0m \u001b[38;5;124;03m    returns: Wave\u001b[39;00m\n\u001b[0;32m     95\u001b[0m \u001b[38;5;124;03m    \"\"\"\u001b[39;00m\n\u001b[1;32m---> 96\u001b[0m     fp \u001b[38;5;241m=\u001b[39m open_wave(filename, \u001b[38;5;124m\"\u001b[39m\u001b[38;5;124mr\u001b[39m\u001b[38;5;124m\"\u001b[39m)\n\u001b[0;32m     98\u001b[0m     nchannels \u001b[38;5;241m=\u001b[39m fp\u001b[38;5;241m.\u001b[39mgetnchannels()\n\u001b[0;32m     99\u001b[0m     nframes \u001b[38;5;241m=\u001b[39m fp\u001b[38;5;241m.\u001b[39mgetnframes()\n",
      "File \u001b[1;32m~\\anaconda3\\Lib\\wave.py:649\u001b[0m, in \u001b[0;36mopen\u001b[1;34m(f, mode)\u001b[0m\n\u001b[0;32m    647\u001b[0m         mode \u001b[38;5;241m=\u001b[39m \u001b[38;5;124m'\u001b[39m\u001b[38;5;124mrb\u001b[39m\u001b[38;5;124m'\u001b[39m\n\u001b[0;32m    648\u001b[0m \u001b[38;5;28;01mif\u001b[39;00m mode \u001b[38;5;129;01min\u001b[39;00m (\u001b[38;5;124m'\u001b[39m\u001b[38;5;124mr\u001b[39m\u001b[38;5;124m'\u001b[39m, \u001b[38;5;124m'\u001b[39m\u001b[38;5;124mrb\u001b[39m\u001b[38;5;124m'\u001b[39m):\n\u001b[1;32m--> 649\u001b[0m     \u001b[38;5;28;01mreturn\u001b[39;00m Wave_read(f)\n\u001b[0;32m    650\u001b[0m \u001b[38;5;28;01melif\u001b[39;00m mode \u001b[38;5;129;01min\u001b[39;00m (\u001b[38;5;124m'\u001b[39m\u001b[38;5;124mw\u001b[39m\u001b[38;5;124m'\u001b[39m, \u001b[38;5;124m'\u001b[39m\u001b[38;5;124mwb\u001b[39m\u001b[38;5;124m'\u001b[39m):\n\u001b[0;32m    651\u001b[0m     \u001b[38;5;28;01mreturn\u001b[39;00m Wave_write(f)\n",
      "File \u001b[1;32m~\\anaconda3\\Lib\\wave.py:282\u001b[0m, in \u001b[0;36mWave_read.__init__\u001b[1;34m(self, f)\u001b[0m\n\u001b[0;32m    280\u001b[0m \u001b[38;5;28mself\u001b[39m\u001b[38;5;241m.\u001b[39m_i_opened_the_file \u001b[38;5;241m=\u001b[39m \u001b[38;5;28;01mNone\u001b[39;00m\n\u001b[0;32m    281\u001b[0m \u001b[38;5;28;01mif\u001b[39;00m \u001b[38;5;28misinstance\u001b[39m(f, \u001b[38;5;28mstr\u001b[39m):\n\u001b[1;32m--> 282\u001b[0m     f \u001b[38;5;241m=\u001b[39m builtins\u001b[38;5;241m.\u001b[39mopen(f, \u001b[38;5;124m'\u001b[39m\u001b[38;5;124mrb\u001b[39m\u001b[38;5;124m'\u001b[39m)\n\u001b[0;32m    283\u001b[0m     \u001b[38;5;28mself\u001b[39m\u001b[38;5;241m.\u001b[39m_i_opened_the_file \u001b[38;5;241m=\u001b[39m f\n\u001b[0;32m    284\u001b[0m \u001b[38;5;66;03m# else, assume it is an open file object already\u001b[39;00m\n",
      "\u001b[1;31mFileNotFoundError\u001b[0m: [Errno 2] No such file or directory: '/content/77685__juskiddink__anna-britta-sax.wav'"
     ]
    }
   ],
   "source": [
    "from thinkdsp import read_wave\n",
    "\n",
    "wave = read_wave('/content/77685__juskiddink__anna-britta-sax.wav')\n",
    "wave.make_audio()"
   ]
  },
  {
   "cell_type": "markdown",
   "metadata": {
    "id": "qHOaM6q5yD5B"
   },
   "source": [
    "Выделим сегмент из исходной записи:"
   ]
  },
  {
   "cell_type": "code",
   "execution_count": null,
   "metadata": {
    "colab": {
     "base_uri": "https://localhost:8080/",
     "height": 75
    },
    "id": "oDzTbUHQJevW",
    "outputId": "953521bd-0358-41f3-cf2b-aeeebbe79f58"
   },
   "outputs": [],
   "source": [
    "segment = wave.segment(start=1.2, duration=0.5)\n",
    "segment.normalize()\n",
    "segment.make_audio()"
   ]
  },
  {
   "cell_type": "markdown",
   "metadata": {
    "id": "65LP-mW2HVSA"
   },
   "source": [
    "Напишем функции для вывода амплитуды, углов и waveform заданного спектра"
   ]
  },
  {
   "cell_type": "code",
   "execution_count": null,
   "metadata": {
    "id": "EIad5zOnFGvf"
   },
   "outputs": [],
   "source": [
    "def plot_angle(spectrum, thresh=1):\n",
    "    angles = spectrum.angles\n",
    "    angles[spectrum.amps < thresh] = np.nan\n",
    "    plt.plot(spectrum.fs, angles, 'x')\n",
    "    decorate(xlabel='Frequency (Hz)', \n",
    "             ylabel='Phase (radian)')"
   ]
  },
  {
   "cell_type": "code",
   "execution_count": null,
   "metadata": {
    "id": "D0S7cBl_E8n2"
   },
   "outputs": [],
   "source": [
    "def plot_three(spectrum, thresh=1):\n",
    "    plt.figure(figsize=(10, 4))\n",
    "    plt.subplot(1,3,1)\n",
    "    spectrum.plot()\n",
    "    plt.subplot(1,3,2)\n",
    "    plot_angle(spectrum, thresh=thresh)\n",
    "    plt.subplot(1,3,3)\n",
    "    wave = spectrum.make_wave()\n",
    "    wave.unbias()\n",
    "    wave.normalize()\n",
    "    wave.segment(duration=0.01).plot()\n",
    "    display(wave.make_audio())"
   ]
  },
  {
   "cell_type": "markdown",
   "metadata": {
    "id": "COH89gcNHp8_"
   },
   "source": [
    "Получим данные для оригинального сегмента"
   ]
  },
  {
   "cell_type": "code",
   "execution_count": null,
   "metadata": {
    "colab": {
     "base_uri": "https://localhost:8080/",
     "height": 427
    },
    "id": "wqS0Ilh9Diwt",
    "outputId": "55959bd7-614f-489d-a55c-2fb19e721a45"
   },
   "outputs": [],
   "source": [
    "spectrum = segment.make_spectrum()\n",
    "plot_three(spectrum, thresh=50)"
   ]
  },
  {
   "cell_type": "markdown",
   "metadata": {
    "id": "MiPcO3T4Htv-"
   },
   "source": [
    "Напишем функцию для обнуления всех углов сегмента "
   ]
  },
  {
   "cell_type": "code",
   "execution_count": null,
   "metadata": {
    "id": "BhSq5KmkFO7k"
   },
   "outputs": [],
   "source": [
    "def zero_angle(spectrum):\n",
    "    res = spectrum.copy()\n",
    "    res.hs = res.amps\n",
    "    return res"
   ]
  },
  {
   "cell_type": "code",
   "execution_count": null,
   "metadata": {
    "colab": {
     "base_uri": "https://localhost:8080/",
     "height": 427
    },
    "id": "sHQYWQSXFWRN",
    "outputId": "ca771d86-fe86-41b5-88ca-9defacccd101"
   },
   "outputs": [],
   "source": [
    "spectrum2 = zero_angle(spectrum)\n",
    "plot_three(spectrum2, thresh=50)"
   ]
  },
  {
   "cell_type": "markdown",
   "metadata": {
    "id": "JAF07g8pH10O"
   },
   "source": [
    "После обнуления углов сегмент звучит намного тише"
   ]
  },
  {
   "cell_type": "markdown",
   "metadata": {
    "id": "GzVIXWo_IgdW"
   },
   "source": [
    "Теперь напишем функцию для поворота углов на 1 радиан"
   ]
  },
  {
   "cell_type": "code",
   "execution_count": null,
   "metadata": {
    "id": "7amvIawiFYXM"
   },
   "outputs": [],
   "source": [
    "def rotate_angle(spectrum, offset):\n",
    "    res = spectrum.copy()\n",
    "    res.hs *= np.exp(1j * offset)\n",
    "    return res"
   ]
  },
  {
   "cell_type": "code",
   "execution_count": null,
   "metadata": {
    "colab": {
     "base_uri": "https://localhost:8080/",
     "height": 431
    },
    "id": "iPcWncGeFPs-",
    "outputId": "c1948aba-2036-4aa4-da17-3b715d7dd696"
   },
   "outputs": [],
   "source": [
    "spectrum3 = rotate_angle(spectrum, 1)\n",
    "plot_three(spectrum3, thresh=50)"
   ]
  },
  {
   "cell_type": "markdown",
   "metadata": {
    "id": "X7UenyDjIolO"
   },
   "source": [
    "После поворота углов сигнал кажется почти неизменным"
   ]
  },
  {
   "cell_type": "markdown",
   "metadata": {
    "id": "2WcELF27Iv02"
   },
   "source": [
    "Создадим функцию для рандомизации углов"
   ]
  },
  {
   "cell_type": "code",
   "execution_count": null,
   "metadata": {
    "id": "JvW64wzpFdrl"
   },
   "outputs": [],
   "source": [
    "PI2 = np.pi * 2\n",
    "\n",
    "def random_angle(spectrum):\n",
    "    res = spectrum.copy()\n",
    "    angles = np.random.uniform(0, PI2, len(spectrum))\n",
    "    res.hs *= np.exp(1j * angles)\n",
    "    return res"
   ]
  },
  {
   "cell_type": "code",
   "execution_count": null,
   "metadata": {
    "colab": {
     "base_uri": "https://localhost:8080/",
     "height": 427
    },
    "id": "j235SM3eFeJu",
    "outputId": "ddd235d3-b520-44b9-b777-174f9f7cf967"
   },
   "outputs": [],
   "source": [
    "spectrum4 = random_angle(spectrum)\n",
    "plot_three(spectrum4, thresh=50)"
   ]
  },
  {
   "cell_type": "markdown",
   "metadata": {
    "id": "vz81M32TIyl2"
   },
   "source": [
    "К звуку изначальной записи добавилось эхо"
   ]
  },
  {
   "cell_type": "code",
   "execution_count": null,
   "metadata": {
    "id": "-pTZnza4ycAY"
   },
   "outputs": [],
   "source": []
  }
 ],
 "metadata": {
  "colab": {
   "provenance": []
  },
  "kernelspec": {
   "display_name": "Python 3 (ipykernel)",
   "language": "python",
   "name": "python3"
  },
  "language_info": {
   "codemirror_mode": {
    "name": "ipython",
    "version": 3
   },
   "file_extension": ".py",
   "mimetype": "text/x-python",
   "name": "python",
   "nbconvert_exporter": "python",
   "pygments_lexer": "ipython3",
   "version": "3.12.7"
  }
 },
 "nbformat": 4,
 "nbformat_minor": 4
}
